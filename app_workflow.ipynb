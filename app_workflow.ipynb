{
 "cells": [
  {
   "cell_type": "code",
   "execution_count": 1,
   "metadata": {},
   "outputs": [
    {
     "ename": "ModuleNotFoundError",
     "evalue": "No module named 'rdflib'",
     "output_type": "error",
     "traceback": [
      "\u001b[1;31m---------------------------------------------------------------------------\u001b[0m",
      "\u001b[1;31mModuleNotFoundError\u001b[0m                       Traceback (most recent call last)",
      "Cell \u001b[1;32mIn[1], line 1\u001b[0m\n\u001b[1;32m----> 1\u001b[0m \u001b[38;5;28;01mfrom\u001b[39;00m \u001b[38;5;21;01mrdflib\u001b[39;00m \u001b[38;5;28;01mimport\u001b[39;00m Graph, Literal\n\u001b[0;32m      2\u001b[0m \u001b[38;5;28;01mfrom\u001b[39;00m \u001b[38;5;21;01mrdflib\u001b[39;00m\u001b[38;5;21;01m.\u001b[39;00m\u001b[38;5;21;01mnamespace\u001b[39;00m \u001b[38;5;28;01mimport\u001b[39;00m RDF, RDFS, SKOS\n\u001b[0;32m      3\u001b[0m \u001b[38;5;28;01mimport\u001b[39;00m \u001b[38;5;21;01mrdflib\u001b[39;00m\n",
      "\u001b[1;31mModuleNotFoundError\u001b[0m: No module named 'rdflib'"
     ]
    }
   ],
   "source": [
    "from rdflib import Graph, Literal\n",
    "from rdflib.namespace import RDF, RDFS, SKOS\n",
    "import rdflib\n",
    "import os\n",
    "from SPARQLWrapper import SPARQLWrapper, JSON\n",
    "import pandas as pd\n",
    "sparql = SPARQLWrapper(\"http://dbpedia.org/sparql\")\n",
    "sparql.setReturnFormat(JSON)\n",
    "sparql.setTimeout(20)\n",
    "schema = rdflib.Namespace(\"http://schema.org/\")\n",
    "owl = rdflib.Namespace(\"http://www.w3.org/2002/07/owl#\")\n",
    "ocs = rdflib.Namespace(\"https://w3id.org/ocs/ont/\")"
   ]
  },
  {
   "cell_type": "code",
   "execution_count": 2,
   "metadata": {},
   "outputs": [],
   "source": [
    "from src.helpers import get_labels\n",
    "from src.helpers import get_o"
   ]
  },
  {
   "cell_type": "code",
   "execution_count": 3,
   "metadata": {},
   "outputs": [],
   "source": [
    "language = \"en\"\n",
    "directory = r\"../OpenCS/ontology/core/00/\""
   ]
  },
  {
   "cell_type": "code",
   "execution_count": 4,
   "metadata": {},
   "outputs": [],
   "source": [
    "g = Graph()\n",
    "g.bind(\"ocs\", ocs)\n",
    "for filename in os.listdir(directory):\n",
    "    f = os.path.join(directory, filename)\n",
    "    # checking if it is a file\n",
    "    if os.path.isfile(f):\n",
    "        new_node = Graph()\n",
    "        new_node.parse(f)\n",
    "        g += new_node\n",
    "        "
   ]
  },
  {
   "cell_type": "code",
   "execution_count": 5,
   "metadata": {},
   "outputs": [],
   "source": [
    "enitites_to_find = pd.DataFrame([(str(o), s) for s, p, o in g.triples((None, SKOS.closeMatch, None))], columns=[\"uri\", \"filename\"])"
   ]
  },
  {
   "cell_type": "code",
   "execution_count": 6,
   "metadata": {},
   "outputs": [],
   "source": [
    "names = [\"(dbr:\" + uri.split(\"/\").pop() + \")\" for uri in enitites_to_find['uri']]\n",
    "names = [uri.split(\"/\").pop()\n",
    "             .replace(\"*\", \"\\*\")\n",
    "             .replace(\"(\", \"\\(\")\n",
    "             .replace(\")\", \"\\)\")\n",
    "             .replace(\",\", \"\\,\")\n",
    "             .replace(\"'\", \"\\\\'\")\n",
    "             .replace(\"-\", \"\\-\") for uri in enitites_to_find['uri']]\n",
    "names = [\"(dbr:\" + uri + \")\" for uri in names]"
   ]
  },
  {
   "cell_type": "code",
   "execution_count": 7,
   "metadata": {},
   "outputs": [],
   "source": [
    "labels = []\n",
    "for idx_start in range(0, len(names), 10):\n",
    "    idx_end = idx_start + 10\n",
    "    labels.append(get_labels(names[idx_start:idx_end], language))\n",
    "labels_df = pd.concat(labels)"
   ]
  },
  {
   "cell_type": "code",
   "execution_count": 8,
   "metadata": {},
   "outputs": [],
   "source": [
    "changed_enities = labels_df.merge(enitites_to_find, on = \"uri\", how=\"left\")\n",
    "changed_enities_names = [str(entity) for entity in changed_enities['filename']]"
   ]
  },
  {
   "cell_type": "code",
   "execution_count": 9,
   "metadata": {},
   "outputs": [
    {
     "data": {
      "text/html": [
       "<div>\n",
       "<style scoped>\n",
       "    .dataframe tbody tr th:only-of-type {\n",
       "        vertical-align: middle;\n",
       "    }\n",
       "\n",
       "    .dataframe tbody tr th {\n",
       "        vertical-align: top;\n",
       "    }\n",
       "\n",
       "    .dataframe thead th {\n",
       "        text-align: right;\n",
       "    }\n",
       "</style>\n",
       "<table border=\"1\" class=\"dataframe\">\n",
       "  <thead>\n",
       "    <tr style=\"text-align: right;\">\n",
       "      <th></th>\n",
       "      <th>uri</th>\n",
       "      <th>label</th>\n",
       "      <th>filename</th>\n",
       "    </tr>\n",
       "  </thead>\n",
       "  <tbody>\n",
       "    <tr>\n",
       "      <th>0</th>\n",
       "      <td>http://dbpedia.org/resource/Algorithm</td>\n",
       "      <td>Algorithm</td>\n",
       "      <td>https://w3id.org/ocs/ont/C10</td>\n",
       "    </tr>\n",
       "    <tr>\n",
       "      <th>1</th>\n",
       "      <td>http://dbpedia.org/resource/Reconfigurability</td>\n",
       "      <td>Reconfigurability</td>\n",
       "      <td>https://w3id.org/ocs/ont/C112</td>\n",
       "    </tr>\n",
       "    <tr>\n",
       "      <th>2</th>\n",
       "      <td>http://dbpedia.org/resource/Crt0</td>\n",
       "      <td>Crt0</td>\n",
       "      <td>https://w3id.org/ocs/ont/C115</td>\n",
       "    </tr>\n",
       "    <tr>\n",
       "      <th>3</th>\n",
       "      <td>http://dbpedia.org/resource/Computer_science</td>\n",
       "      <td>Computer science</td>\n",
       "      <td>https://w3id.org/ocs/ont/C1</td>\n",
       "    </tr>\n",
       "    <tr>\n",
       "      <th>4</th>\n",
       "      <td>http://dbpedia.org/resource/Embedded_system</td>\n",
       "      <td>Embedded system</td>\n",
       "      <td>https://w3id.org/ocs/ont/C11</td>\n",
       "    </tr>\n",
       "    <tr>\n",
       "      <th>...</th>\n",
       "      <td>...</td>\n",
       "      <td>...</td>\n",
       "      <td>...</td>\n",
       "    </tr>\n",
       "    <tr>\n",
       "      <th>578</th>\n",
       "      <td>http://dbpedia.org/resource/Microsoft_Talisman</td>\n",
       "      <td>Microsoft Talisman</td>\n",
       "      <td>https://w3id.org/ocs/ont/C992</td>\n",
       "    </tr>\n",
       "    <tr>\n",
       "      <th>579</th>\n",
       "      <td>http://dbpedia.org/resource/Suppression_list</td>\n",
       "      <td>Suppression list</td>\n",
       "      <td>https://w3id.org/ocs/ont/C986</td>\n",
       "    </tr>\n",
       "    <tr>\n",
       "      <th>580</th>\n",
       "      <td>http://dbpedia.org/resource/Built-in_self-test</td>\n",
       "      <td>Built-in self-test</td>\n",
       "      <td>https://w3id.org/ocs/ont/C987</td>\n",
       "    </tr>\n",
       "    <tr>\n",
       "      <th>581</th>\n",
       "      <td>http://dbpedia.org/resource/Monitor_unit</td>\n",
       "      <td>Monitor unit</td>\n",
       "      <td>https://w3id.org/ocs/ont/C993</td>\n",
       "    </tr>\n",
       "    <tr>\n",
       "      <th>582</th>\n",
       "      <td>http://dbpedia.org/resource/Survivability</td>\n",
       "      <td>Survivability</td>\n",
       "      <td>https://w3id.org/ocs/ont/C991</td>\n",
       "    </tr>\n",
       "  </tbody>\n",
       "</table>\n",
       "<p>583 rows × 3 columns</p>\n",
       "</div>"
      ],
      "text/plain": [
       "                                                uri               label  \\\n",
       "0             http://dbpedia.org/resource/Algorithm           Algorithm   \n",
       "1     http://dbpedia.org/resource/Reconfigurability   Reconfigurability   \n",
       "2                  http://dbpedia.org/resource/Crt0                Crt0   \n",
       "3      http://dbpedia.org/resource/Computer_science    Computer science   \n",
       "4       http://dbpedia.org/resource/Embedded_system     Embedded system   \n",
       "..                                              ...                 ...   \n",
       "578  http://dbpedia.org/resource/Microsoft_Talisman  Microsoft Talisman   \n",
       "579    http://dbpedia.org/resource/Suppression_list    Suppression list   \n",
       "580  http://dbpedia.org/resource/Built-in_self-test  Built-in self-test   \n",
       "581        http://dbpedia.org/resource/Monitor_unit        Monitor unit   \n",
       "582       http://dbpedia.org/resource/Survivability       Survivability   \n",
       "\n",
       "                          filename  \n",
       "0     https://w3id.org/ocs/ont/C10  \n",
       "1    https://w3id.org/ocs/ont/C112  \n",
       "2    https://w3id.org/ocs/ont/C115  \n",
       "3      https://w3id.org/ocs/ont/C1  \n",
       "4     https://w3id.org/ocs/ont/C11  \n",
       "..                             ...  \n",
       "578  https://w3id.org/ocs/ont/C992  \n",
       "579  https://w3id.org/ocs/ont/C986  \n",
       "580  https://w3id.org/ocs/ont/C987  \n",
       "581  https://w3id.org/ocs/ont/C993  \n",
       "582  https://w3id.org/ocs/ont/C991  \n",
       "\n",
       "[583 rows x 3 columns]"
      ]
     },
     "execution_count": 9,
     "metadata": {},
     "output_type": "execute_result"
    }
   ],
   "source": [
    "changed_enities"
   ]
  },
  {
   "cell_type": "code",
   "execution_count": 11,
   "metadata": {},
   "outputs": [],
   "source": [
    "graph_triples ={}\n",
    "for s, p, o in g.triples((None, None, None)):\n",
    "    if str(s) in changed_enities_names:\n",
    "        entity_name = s.split(\"/\").pop()\n",
    "        if entity_name not in graph_triples.keys():\n",
    "            graph_triples[entity_name] = []\n",
    "            #graph_triples[entity_name].bind(\"ocs\", ocs)    \n",
    "        graph_triples[entity_name].append((s, p, o))"
   ]
  },
  {
   "cell_type": "code",
   "execution_count": 13,
   "metadata": {},
   "outputs": [
    {
     "data": {
      "text/plain": [
       "[(rdflib.term.URIRef('https://w3id.org/ocs/ont/C1'),\n",
       "  rdflib.term.URIRef('http://www.w3.org/2004/02/skos/core#related'),\n",
       "  rdflib.term.URIRef('https://w3id.org/ocs/ont/C10')),\n",
       " (rdflib.term.URIRef('https://w3id.org/ocs/ont/C1'),\n",
       "  rdflib.term.URIRef('http://www.w3.org/2004/02/skos/core#related'),\n",
       "  rdflib.term.URIRef('https://w3id.org/ocs/ont/C19')),\n",
       " (rdflib.term.URIRef('https://w3id.org/ocs/ont/C1'),\n",
       "  rdflib.term.URIRef('http://www.w3.org/2004/02/skos/core#prefLabel'),\n",
       "  rdflib.term.Literal('Computer science', lang='en')),\n",
       " (rdflib.term.URIRef('https://w3id.org/ocs/ont/C1'),\n",
       "  rdflib.term.URIRef('http://www.w3.org/1999/02/22-rdf-syntax-ns#type'),\n",
       "  rdflib.term.URIRef('http://www.w3.org/2004/02/skos/core#Concept')),\n",
       " (rdflib.term.URIRef('https://w3id.org/ocs/ont/C1'),\n",
       "  rdflib.term.URIRef('http://www.w3.org/2004/02/skos/core#related'),\n",
       "  rdflib.term.URIRef('https://w3id.org/ocs/ont/C14')),\n",
       " (rdflib.term.URIRef('https://w3id.org/ocs/ont/C1'),\n",
       "  rdflib.term.URIRef('http://www.w3.org/2004/02/skos/core#related'),\n",
       "  rdflib.term.URIRef('https://w3id.org/ocs/ont/C197')),\n",
       " (rdflib.term.URIRef('https://w3id.org/ocs/ont/C1'),\n",
       "  rdflib.term.URIRef('http://www.w3.org/2004/02/skos/core#related'),\n",
       "  rdflib.term.URIRef('https://w3id.org/ocs/ont/C8')),\n",
       " (rdflib.term.URIRef('https://w3id.org/ocs/ont/C1'),\n",
       "  rdflib.term.URIRef('http://www.w3.org/2004/02/skos/core#closeMatch'),\n",
       "  rdflib.term.URIRef('http://dbpedia.org/resource/Computer_science')),\n",
       " (rdflib.term.URIRef('https://w3id.org/ocs/ont/C1'),\n",
       "  rdflib.term.URIRef('http://www.w3.org/2004/02/skos/core#related'),\n",
       "  rdflib.term.URIRef('https://w3id.org/ocs/ont/C28'))]"
      ]
     },
     "execution_count": 13,
     "metadata": {},
     "output_type": "execute_result"
    }
   ],
   "source": [
    "graph_triples[\"C1\"]"
   ]
  },
  {
   "cell_type": "code",
   "execution_count": 61,
   "metadata": {},
   "outputs": [],
   "source": [
    "graph = {}\n",
    "for key, value in graph_triples.items():\n",
    "    val = value.copy()\n",
    "    val.sort(key = get_o)\n",
    "    g = Graph()\n",
    "    g.bind(\"ocs\", ocs)\n",
    "    for triple in value:\n",
    "        g.add((s, p, o))\n",
    "    graph[key] = g"
   ]
  },
  {
   "cell_type": "code",
   "execution_count": 52,
   "metadata": {},
   "outputs": [],
   "source": [
    "val = value.copy()\n",
    "val.sort(key = get_o)\n",
    "g = Graph()\n",
    "g.bind(\"ocs\", ocs)\n",
    "for triple in value:\n",
    "    g.add((s, p, o))"
   ]
  },
  {
   "cell_type": "code",
   "execution_count": 53,
   "metadata": {},
   "outputs": [
    {
     "data": {
      "text/plain": [
       "<Graph identifier=Na8d4136fa39245889108a4d07c24554c (<class 'rdflib.graph.Graph'>)>"
      ]
     },
     "execution_count": 53,
     "metadata": {},
     "output_type": "execute_result"
    }
   ],
   "source": [
    "g"
   ]
  },
  {
   "cell_type": "code",
   "execution_count": 58,
   "metadata": {},
   "outputs": [
    {
     "name": "stdout",
     "output_type": "stream",
     "text": [
      "https://w3id.org/ocs/ont/C391 http://www.w3.org/2004/02/skos/core#related https://w3id.org/ocs/ont/C12580\n"
     ]
    }
   ],
   "source": [
    "for s, p, o in graph[\"C401\"].triples((None, None, None)):\n",
    "    print(s,p,o)"
   ]
  },
  {
   "cell_type": "code",
   "execution_count": 36,
   "metadata": {},
   "outputs": [],
   "source": [
    "for idx, row in changed_enities.iterrows():\n",
    "    uri = row['filename'].split(\"/\").pop()\n",
    "    label = Literal(row['label'], lang = language)\n",
    "    graph[uri].add((rdflib.term.URIRef(ocs[uri]), SKOS.prefLabel, label))"
   ]
  },
  {
   "cell_type": "code",
   "execution_count": 38,
   "metadata": {},
   "outputs": [
    {
     "data": {
      "text/plain": [
       "<Graph identifier=N5d3a263efcba44598459b9ab475b9102 (<class 'rdflib.graph.Graph'>)>"
      ]
     },
     "execution_count": 38,
     "metadata": {},
     "output_type": "execute_result"
    }
   ],
   "source": [
    "graph['C401'].serialize(destination = \"test.ttl\")"
   ]
  },
  {
   "cell_type": "code",
   "execution_count": 21,
   "metadata": {},
   "outputs": [],
   "source": [
    "for key, value in graph.items():\n",
    "    value.serialize(destination=directory+key+\".ttl\")"
   ]
  },
  {
   "cell_type": "code",
   "execution_count": 20,
   "metadata": {},
   "outputs": [
    {
     "data": {
      "text/plain": [
       "'../OpenCS/ontology/core/00/'"
      ]
     },
     "execution_count": 20,
     "metadata": {},
     "output_type": "execute_result"
    }
   ],
   "source": [
    "directory"
   ]
  }
 ],
 "metadata": {
  "kernelspec": {
   "display_name": "venv",
   "language": "python",
   "name": "python3"
  },
  "language_info": {
   "codemirror_mode": {
    "name": "ipython",
    "version": 3
   },
   "file_extension": ".py",
   "mimetype": "text/x-python",
   "name": "python",
   "nbconvert_exporter": "python",
   "pygments_lexer": "ipython3",
   "version": "3.11.6"
  }
 },
 "nbformat": 4,
 "nbformat_minor": 2
}
