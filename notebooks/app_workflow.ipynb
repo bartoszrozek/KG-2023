{
 "cells": [
  {
   "cell_type": "code",
   "execution_count": 15,
   "metadata": {},
   "outputs": [],
   "source": [
    "from rdflib import Graph, Literal\n",
    "from rdflib.namespace import RDF, RDFS, SKOS\n",
    "import rdflib\n",
    "import os\n",
    "from SPARQLWrapper import SPARQLWrapper, JSON\n",
    "import pandas as pd\n",
    "sparql = SPARQLWrapper(\"http://dbpedia.org/sparql\")\n",
    "sparql.setReturnFormat(JSON)\n",
    "sparql.setTimeout(20)\n",
    "schema = rdflib.Namespace(\"http://schema.org/\")\n",
    "owl = rdflib.Namespace(\"http://www.w3.org/2002/07/owl#\")\n",
    "ocs = rdflib.Namespace(\"https://w3id.org/ocs/ont/\")\n",
    "import ssl\n",
    "ssl._create_default_https_context = ssl._create_unverified_context"
   ]
  },
  {
   "cell_type": "code",
   "execution_count": 2,
   "metadata": {},
   "outputs": [],
   "source": [
    "from src.helpers import get_labels\n",
    "from src.helpers import get_o"
   ]
  },
  {
   "cell_type": "code",
   "execution_count": 3,
   "metadata": {},
   "outputs": [],
   "source": [
    "language = \"pl\"\n",
    "directory = r\"../OpenCS/ontology/core/00/\""
   ]
  },
  {
   "cell_type": "code",
   "execution_count": 5,
   "metadata": {},
   "outputs": [],
   "source": [
    "no_entities_added = 0\n",
    "g = Graph()\n",
    "g.bind(\"ocs\", ocs)\n",
    "for filename in os.listdir(directory):\n",
    "    f = os.path.join(directory, filename)\n",
    "    # checking if it is a file\n",
    "    if os.path.isfile(f):\n",
    "        new_node = Graph()\n",
    "        new_node.parse(f)\n",
    "        g += new_node\n",
    "        no_entities_added +=1\n",
    "        "
   ]
  },
  {
   "cell_type": "code",
   "execution_count": 6,
   "metadata": {},
   "outputs": [
    {
     "data": {
      "text/plain": [
       "999"
      ]
     },
     "execution_count": 6,
     "metadata": {},
     "output_type": "execute_result"
    }
   ],
   "source": [
    "no_entities_added"
   ]
  },
  {
   "cell_type": "code",
   "execution_count": 7,
   "metadata": {},
   "outputs": [
    {
     "data": {
      "text/html": [
       "<div>\n",
       "<style scoped>\n",
       "    .dataframe tbody tr th:only-of-type {\n",
       "        vertical-align: middle;\n",
       "    }\n",
       "\n",
       "    .dataframe tbody tr th {\n",
       "        vertical-align: top;\n",
       "    }\n",
       "\n",
       "    .dataframe thead th {\n",
       "        text-align: right;\n",
       "    }\n",
       "</style>\n",
       "<table border=\"1\" class=\"dataframe\">\n",
       "  <thead>\n",
       "    <tr style=\"text-align: right;\">\n",
       "      <th></th>\n",
       "      <th>uri</th>\n",
       "      <th>filename</th>\n",
       "    </tr>\n",
       "  </thead>\n",
       "  <tbody>\n",
       "    <tr>\n",
       "      <th>0</th>\n",
       "      <td>http://dbpedia.org/resource/Computer_science</td>\n",
       "      <td>https://w3id.org/ocs/ont/C1</td>\n",
       "    </tr>\n",
       "    <tr>\n",
       "      <th>1</th>\n",
       "      <td>http://dbpedia.org/resource/Algorithm</td>\n",
       "      <td>https://w3id.org/ocs/ont/C10</td>\n",
       "    </tr>\n",
       "    <tr>\n",
       "      <th>2</th>\n",
       "      <td>http://dbpedia.org/resource/Embedded_system</td>\n",
       "      <td>https://w3id.org/ocs/ont/C11</td>\n",
       "    </tr>\n",
       "    <tr>\n",
       "      <th>3</th>\n",
       "      <td>http://dbpedia.org/resource/Reconfigurability</td>\n",
       "      <td>https://w3id.org/ocs/ont/C112</td>\n",
       "    </tr>\n",
       "    <tr>\n",
       "      <th>4</th>\n",
       "      <td>http://dbpedia.org/resource/REEM</td>\n",
       "      <td>https://w3id.org/ocs/ont/C114</td>\n",
       "    </tr>\n",
       "    <tr>\n",
       "      <th>...</th>\n",
       "      <td>...</td>\n",
       "      <td>...</td>\n",
       "    </tr>\n",
       "    <tr>\n",
       "      <th>584</th>\n",
       "      <td>http://dbpedia.org/resource/Smart_key</td>\n",
       "      <td>https://w3id.org/ocs/ont/C990</td>\n",
       "    </tr>\n",
       "    <tr>\n",
       "      <th>585</th>\n",
       "      <td>http://dbpedia.org/resource/Survivability</td>\n",
       "      <td>https://w3id.org/ocs/ont/C991</td>\n",
       "    </tr>\n",
       "    <tr>\n",
       "      <th>586</th>\n",
       "      <td>http://dbpedia.org/resource/Microsoft_Talisman</td>\n",
       "      <td>https://w3id.org/ocs/ont/C992</td>\n",
       "    </tr>\n",
       "    <tr>\n",
       "      <th>587</th>\n",
       "      <td>http://dbpedia.org/resource/Monitor_unit</td>\n",
       "      <td>https://w3id.org/ocs/ont/C993</td>\n",
       "    </tr>\n",
       "    <tr>\n",
       "      <th>588</th>\n",
       "      <td>http://dbpedia.org/resource/Application_sharing</td>\n",
       "      <td>https://w3id.org/ocs/ont/C994</td>\n",
       "    </tr>\n",
       "  </tbody>\n",
       "</table>\n",
       "<p>589 rows × 2 columns</p>\n",
       "</div>"
      ],
      "text/plain": [
       "                                                 uri  \\\n",
       "0       http://dbpedia.org/resource/Computer_science   \n",
       "1              http://dbpedia.org/resource/Algorithm   \n",
       "2        http://dbpedia.org/resource/Embedded_system   \n",
       "3      http://dbpedia.org/resource/Reconfigurability   \n",
       "4                   http://dbpedia.org/resource/REEM   \n",
       "..                                               ...   \n",
       "584            http://dbpedia.org/resource/Smart_key   \n",
       "585        http://dbpedia.org/resource/Survivability   \n",
       "586   http://dbpedia.org/resource/Microsoft_Talisman   \n",
       "587         http://dbpedia.org/resource/Monitor_unit   \n",
       "588  http://dbpedia.org/resource/Application_sharing   \n",
       "\n",
       "                          filename  \n",
       "0      https://w3id.org/ocs/ont/C1  \n",
       "1     https://w3id.org/ocs/ont/C10  \n",
       "2     https://w3id.org/ocs/ont/C11  \n",
       "3    https://w3id.org/ocs/ont/C112  \n",
       "4    https://w3id.org/ocs/ont/C114  \n",
       "..                             ...  \n",
       "584  https://w3id.org/ocs/ont/C990  \n",
       "585  https://w3id.org/ocs/ont/C991  \n",
       "586  https://w3id.org/ocs/ont/C992  \n",
       "587  https://w3id.org/ocs/ont/C993  \n",
       "588  https://w3id.org/ocs/ont/C994  \n",
       "\n",
       "[589 rows x 2 columns]"
      ]
     },
     "execution_count": 7,
     "metadata": {},
     "output_type": "execute_result"
    }
   ],
   "source": [
    "enitites_to_find = pd.DataFrame([(str(o), s) for s, p, o in g.triples((None, SKOS.closeMatch, None))], columns=[\"uri\", \"filename\"])\n",
    "enitites_to_find"
   ]
  },
  {
   "cell_type": "code",
   "execution_count": 8,
   "metadata": {},
   "outputs": [
    {
     "data": {
      "text/plain": [
       "589"
      ]
     },
     "execution_count": 8,
     "metadata": {},
     "output_type": "execute_result"
    }
   ],
   "source": [
    "len(enitites_to_find)"
   ]
  },
  {
   "cell_type": "code",
   "execution_count": 10,
   "metadata": {},
   "outputs": [],
   "source": [
    "names = [\"(dbr:\" + uri.split(\"/\").pop() + \")\" for uri in enitites_to_find['uri']]\n",
    "names = [uri.split(\"/\").pop()\n",
    "             .replace(\"*\", \"\\*\")\n",
    "             .replace(\"(\", \"\\(\")\n",
    "             .replace(\")\", \"\\)\")\n",
    "             .replace(\",\", \"\\,\")\n",
    "             .replace(\"'\", \"\\\\'\")\n",
    "             .replace(\"-\", \"\\-\") for uri in enitites_to_find['uri']]\n",
    "names = [\"(dbr:\" + uri + \")\" for uri in names]"
   ]
  },
  {
   "cell_type": "code",
   "execution_count": 12,
   "metadata": {},
   "outputs": [
    {
     "data": {
      "text/plain": [
       "589"
      ]
     },
     "execution_count": 12,
     "metadata": {},
     "output_type": "execute_result"
    }
   ],
   "source": [
    "len(names)"
   ]
  },
  {
   "cell_type": "code",
   "execution_count": 16,
   "metadata": {},
   "outputs": [],
   "source": [
    "labels = []\n",
    "for idx_start in range(0, len(names), 10):\n",
    "    idx_end = idx_start + 10\n",
    "    labels.append(get_labels(names[idx_start:idx_end], language))\n",
    "labels_df = pd.concat(labels)"
   ]
  },
  {
   "cell_type": "code",
   "execution_count": 18,
   "metadata": {},
   "outputs": [
    {
     "data": {
      "text/plain": [
       "184"
      ]
     },
     "execution_count": 18,
     "metadata": {},
     "output_type": "execute_result"
    }
   ],
   "source": [
    "len(labels_df)"
   ]
  },
  {
   "cell_type": "code",
   "execution_count": 19,
   "metadata": {},
   "outputs": [],
   "source": [
    "changed_enities = labels_df.merge(enitites_to_find, on = \"uri\", how=\"left\")\n",
    "changed_enities_names = [str(entity) for entity in changed_enities['filename']]"
   ]
  },
  {
   "cell_type": "code",
   "execution_count": 20,
   "metadata": {},
   "outputs": [
    {
     "data": {
      "text/html": [
       "<div>\n",
       "<style scoped>\n",
       "    .dataframe tbody tr th:only-of-type {\n",
       "        vertical-align: middle;\n",
       "    }\n",
       "\n",
       "    .dataframe tbody tr th {\n",
       "        vertical-align: top;\n",
       "    }\n",
       "\n",
       "    .dataframe thead th {\n",
       "        text-align: right;\n",
       "    }\n",
       "</style>\n",
       "<table border=\"1\" class=\"dataframe\">\n",
       "  <thead>\n",
       "    <tr style=\"text-align: right;\">\n",
       "      <th></th>\n",
       "      <th>uri</th>\n",
       "      <th>label</th>\n",
       "      <th>filename</th>\n",
       "    </tr>\n",
       "  </thead>\n",
       "  <tbody>\n",
       "    <tr>\n",
       "      <th>0</th>\n",
       "      <td>http://dbpedia.org/resource/Algorithm</td>\n",
       "      <td>Algorytm</td>\n",
       "      <td>https://w3id.org/ocs/ont/C10</td>\n",
       "    </tr>\n",
       "    <tr>\n",
       "      <th>1</th>\n",
       "      <td>http://dbpedia.org/resource/Computer_science</td>\n",
       "      <td>Informatyka</td>\n",
       "      <td>https://w3id.org/ocs/ont/C1</td>\n",
       "    </tr>\n",
       "    <tr>\n",
       "      <th>2</th>\n",
       "      <td>http://dbpedia.org/resource/Embedded_system</td>\n",
       "      <td>System wbudowany</td>\n",
       "      <td>https://w3id.org/ocs/ont/C11</td>\n",
       "    </tr>\n",
       "    <tr>\n",
       "      <th>3</th>\n",
       "      <td>http://dbpedia.org/resource/Cellular_automaton</td>\n",
       "      <td>Automat komórkowy</td>\n",
       "      <td>https://w3id.org/ocs/ont/C122</td>\n",
       "    </tr>\n",
       "    <tr>\n",
       "      <th>4</th>\n",
       "      <td>http://dbpedia.org/resource/Digital_filter</td>\n",
       "      <td>Filtr cyfrowy</td>\n",
       "      <td>https://w3id.org/ocs/ont/C123</td>\n",
       "    </tr>\n",
       "    <tr>\n",
       "      <th>...</th>\n",
       "      <td>...</td>\n",
       "      <td>...</td>\n",
       "      <td>...</td>\n",
       "    </tr>\n",
       "    <tr>\n",
       "      <th>179</th>\n",
       "      <td>http://dbpedia.org/resource/Timeout_(computing)</td>\n",
       "      <td>Timeout (telekomunikacja)</td>\n",
       "      <td>https://w3id.org/ocs/ont/C965</td>\n",
       "    </tr>\n",
       "    <tr>\n",
       "      <th>180</th>\n",
       "      <td>http://dbpedia.org/resource/Tf–idf</td>\n",
       "      <td>TFIDF</td>\n",
       "      <td>https://w3id.org/ocs/ont/C972</td>\n",
       "    </tr>\n",
       "    <tr>\n",
       "      <th>181</th>\n",
       "      <td>http://dbpedia.org/resource/Voxel</td>\n",
       "      <td>Woksel</td>\n",
       "      <td>https://w3id.org/ocs/ont/C969</td>\n",
       "    </tr>\n",
       "    <tr>\n",
       "      <th>182</th>\n",
       "      <td>http://dbpedia.org/resource/No-fly_zone</td>\n",
       "      <td>Strefa zakazu lotów</td>\n",
       "      <td>https://w3id.org/ocs/ont/C981</td>\n",
       "    </tr>\n",
       "    <tr>\n",
       "      <th>183</th>\n",
       "      <td>http://dbpedia.org/resource/Backbone_network</td>\n",
       "      <td>Sieć szkieletowa</td>\n",
       "      <td>https://w3id.org/ocs/ont/C973</td>\n",
       "    </tr>\n",
       "  </tbody>\n",
       "</table>\n",
       "<p>184 rows × 3 columns</p>\n",
       "</div>"
      ],
      "text/plain": [
       "                                                 uri  \\\n",
       "0              http://dbpedia.org/resource/Algorithm   \n",
       "1       http://dbpedia.org/resource/Computer_science   \n",
       "2        http://dbpedia.org/resource/Embedded_system   \n",
       "3     http://dbpedia.org/resource/Cellular_automaton   \n",
       "4         http://dbpedia.org/resource/Digital_filter   \n",
       "..                                               ...   \n",
       "179  http://dbpedia.org/resource/Timeout_(computing)   \n",
       "180               http://dbpedia.org/resource/Tf–idf   \n",
       "181                http://dbpedia.org/resource/Voxel   \n",
       "182          http://dbpedia.org/resource/No-fly_zone   \n",
       "183     http://dbpedia.org/resource/Backbone_network   \n",
       "\n",
       "                         label                       filename  \n",
       "0                     Algorytm   https://w3id.org/ocs/ont/C10  \n",
       "1                  Informatyka    https://w3id.org/ocs/ont/C1  \n",
       "2             System wbudowany   https://w3id.org/ocs/ont/C11  \n",
       "3            Automat komórkowy  https://w3id.org/ocs/ont/C122  \n",
       "4                Filtr cyfrowy  https://w3id.org/ocs/ont/C123  \n",
       "..                         ...                            ...  \n",
       "179  Timeout (telekomunikacja)  https://w3id.org/ocs/ont/C965  \n",
       "180                      TFIDF  https://w3id.org/ocs/ont/C972  \n",
       "181                     Woksel  https://w3id.org/ocs/ont/C969  \n",
       "182        Strefa zakazu lotów  https://w3id.org/ocs/ont/C981  \n",
       "183           Sieć szkieletowa  https://w3id.org/ocs/ont/C973  \n",
       "\n",
       "[184 rows x 3 columns]"
      ]
     },
     "execution_count": 20,
     "metadata": {},
     "output_type": "execute_result"
    }
   ],
   "source": [
    "changed_enities"
   ]
  },
  {
   "cell_type": "code",
   "execution_count": 21,
   "metadata": {},
   "outputs": [],
   "source": [
    "graph_triples ={}\n",
    "for s, p, o in g.triples((None, None, None)):\n",
    "    if str(s) in changed_enities_names:\n",
    "        entity_name = s.split(\"/\").pop()\n",
    "        if entity_name not in graph_triples.keys():\n",
    "            graph_triples[entity_name] = []\n",
    "            #graph_triples[entity_name].bind(\"ocs\", ocs)    \n",
    "        graph_triples[entity_name].append((s, p, o))"
   ]
  },
  {
   "cell_type": "code",
   "execution_count": 22,
   "metadata": {},
   "outputs": [
    {
     "data": {
      "text/plain": [
       "[(rdflib.term.URIRef('https://w3id.org/ocs/ont/C1'),\n",
       "  rdflib.term.URIRef('http://www.w3.org/2004/02/skos/core#related'),\n",
       "  rdflib.term.URIRef('https://w3id.org/ocs/ont/C19')),\n",
       " (rdflib.term.URIRef('https://w3id.org/ocs/ont/C1'),\n",
       "  rdflib.term.URIRef('http://www.w3.org/2004/02/skos/core#related'),\n",
       "  rdflib.term.URIRef('https://w3id.org/ocs/ont/C14')),\n",
       " (rdflib.term.URIRef('https://w3id.org/ocs/ont/C1'),\n",
       "  rdflib.term.URIRef('http://www.w3.org/2004/02/skos/core#related'),\n",
       "  rdflib.term.URIRef('https://w3id.org/ocs/ont/C197')),\n",
       " (rdflib.term.URIRef('https://w3id.org/ocs/ont/C1'),\n",
       "  rdflib.term.URIRef('http://www.w3.org/2004/02/skos/core#related'),\n",
       "  rdflib.term.URIRef('https://w3id.org/ocs/ont/C8')),\n",
       " (rdflib.term.URIRef('https://w3id.org/ocs/ont/C1'),\n",
       "  rdflib.term.URIRef('http://www.w3.org/2004/02/skos/core#closeMatch'),\n",
       "  rdflib.term.URIRef('http://dbpedia.org/resource/Computer_science')),\n",
       " (rdflib.term.URIRef('https://w3id.org/ocs/ont/C1'),\n",
       "  rdflib.term.URIRef('http://www.w3.org/2004/02/skos/core#prefLabel'),\n",
       "  rdflib.term.Literal('Computer science', lang='en')),\n",
       " (rdflib.term.URIRef('https://w3id.org/ocs/ont/C1'),\n",
       "  rdflib.term.URIRef('http://www.w3.org/2004/02/skos/core#prefLabel'),\n",
       "  rdflib.term.Literal('Informatyka', lang='pl')),\n",
       " (rdflib.term.URIRef('https://w3id.org/ocs/ont/C1'),\n",
       "  rdflib.term.URIRef('http://www.w3.org/1999/02/22-rdf-syntax-ns#type'),\n",
       "  rdflib.term.URIRef('http://www.w3.org/2004/02/skos/core#Concept')),\n",
       " (rdflib.term.URIRef('https://w3id.org/ocs/ont/C1'),\n",
       "  rdflib.term.URIRef('http://www.w3.org/2004/02/skos/core#related'),\n",
       "  rdflib.term.URIRef('https://w3id.org/ocs/ont/C10')),\n",
       " (rdflib.term.URIRef('https://w3id.org/ocs/ont/C1'),\n",
       "  rdflib.term.URIRef('http://www.w3.org/2004/02/skos/core#related'),\n",
       "  rdflib.term.URIRef('https://w3id.org/ocs/ont/C28'))]"
      ]
     },
     "execution_count": 22,
     "metadata": {},
     "output_type": "execute_result"
    }
   ],
   "source": [
    "graph_triples[\"C1\"]"
   ]
  },
  {
   "cell_type": "code",
   "execution_count": 23,
   "metadata": {},
   "outputs": [],
   "source": [
    "graph = {}\n",
    "for key, value in graph_triples.items():\n",
    "    val = value.copy()\n",
    "    val.sort(key = get_o)\n",
    "    g = Graph()\n",
    "    g.bind(\"ocs\", ocs)\n",
    "    for triple in value:\n",
    "        g.add((s, p, o))\n",
    "    graph[key] = g"
   ]
  },
  {
   "cell_type": "code",
   "execution_count": 24,
   "metadata": {},
   "outputs": [],
   "source": [
    "val = value.copy()\n",
    "val.sort(key = get_o)\n",
    "g = Graph()\n",
    "g.bind(\"ocs\", ocs)\n",
    "for triple in value:\n",
    "    g.add((s, p, o))"
   ]
  },
  {
   "cell_type": "code",
   "execution_count": 25,
   "metadata": {},
   "outputs": [
    {
     "data": {
      "text/plain": [
       "<Graph identifier=Nad3ec4622c89423ba0d51d5913c1995a (<class 'rdflib.graph.Graph'>)>"
      ]
     },
     "execution_count": 25,
     "metadata": {},
     "output_type": "execute_result"
    }
   ],
   "source": [
    "g"
   ]
  },
  {
   "cell_type": "code",
   "execution_count": 26,
   "metadata": {},
   "outputs": [
    {
     "name": "stdout",
     "output_type": "stream",
     "text": [
      "https://w3id.org/ocs/ont/C58 http://www.w3.org/2004/02/skos/core#related https://w3id.org/ocs/ont/C40348\n"
     ]
    }
   ],
   "source": [
    "for s, p, o in graph[\"C401\"].triples((None, None, None)):\n",
    "    print(s,p,o)"
   ]
  },
  {
   "cell_type": "code",
   "execution_count": 36,
   "metadata": {},
   "outputs": [],
   "source": [
    "for idx, row in changed_enities.iterrows():\n",
    "    uri = row['filename'].split(\"/\").pop()\n",
    "    label = Literal(row['label'], lang = language)\n",
    "    graph[uri].add((rdflib.term.URIRef(ocs[uri]), SKOS.prefLabel, label))"
   ]
  },
  {
   "cell_type": "code",
   "execution_count": 38,
   "metadata": {},
   "outputs": [
    {
     "data": {
      "text/plain": [
       "<Graph identifier=N5d3a263efcba44598459b9ab475b9102 (<class 'rdflib.graph.Graph'>)>"
      ]
     },
     "execution_count": 38,
     "metadata": {},
     "output_type": "execute_result"
    }
   ],
   "source": [
    "graph['C401'].serialize(destination = \"test.ttl\")"
   ]
  },
  {
   "cell_type": "code",
   "execution_count": 21,
   "metadata": {},
   "outputs": [],
   "source": [
    "for key, value in graph.items():\n",
    "    value.serialize(destination=directory+key+\".ttl\")"
   ]
  },
  {
   "cell_type": "code",
   "execution_count": 20,
   "metadata": {},
   "outputs": [
    {
     "data": {
      "text/plain": [
       "'../OpenCS/ontology/core/00/'"
      ]
     },
     "execution_count": 20,
     "metadata": {},
     "output_type": "execute_result"
    }
   ],
   "source": [
    "directory"
   ]
  }
 ],
 "metadata": {
  "kernelspec": {
   "display_name": "venv",
   "language": "python",
   "name": "python3"
  },
  "language_info": {
   "codemirror_mode": {
    "name": "ipython",
    "version": 3
   },
   "file_extension": ".py",
   "mimetype": "text/x-python",
   "name": "python",
   "nbconvert_exporter": "python",
   "pygments_lexer": "ipython3",
   "version": "3.11.6"
  }
 },
 "nbformat": 4,
 "nbformat_minor": 2
}
